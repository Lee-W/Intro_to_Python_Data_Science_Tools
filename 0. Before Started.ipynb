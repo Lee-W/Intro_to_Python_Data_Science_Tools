{
 "cells": [
  {
   "cell_type": "markdown",
   "metadata": {
    "slideshow": {
     "slide_type": "slide"
    }
   },
   "source": [
    "<a name='before'></a>\n",
    "# Before Jump into the Data Science..."
   ]
  },
  {
   "cell_type": "markdown",
   "metadata": {
    "slideshow": {
     "slide_type": "fragment"
    }
   },
   "source": [
    "We first run through the best good practices of software development in Python."
   ]
  },
  {
   "cell_type": "markdown",
   "metadata": {
    "slideshow": {
     "slide_type": "slide"
    }
   },
   "source": [
    "# Table of Content\n",
    "\n",
    "* [Package Management](#package-management)\n",
    "* [Environment Isolation](#environment-isolation)\n",
    "* [Pipenv](#pipenv)\n",
    "* [Write Better Python Code](#write-better-python-code)\n",
    "* [Reference](#ref)"
   ]
  },
  {
   "cell_type": "markdown",
   "metadata": {
    "slideshow": {
     "slide_type": "skip"
    }
   },
   "source": [
    "---"
   ]
  },
  {
   "cell_type": "markdown",
   "metadata": {
    "slideshow": {
     "slide_type": "slide"
    }
   },
   "source": [
    "# Package Management\n",
    "\n",
    "* In Python, packages can be easily installed through the command `pip install <PACKAGE_NAME>`.  \n",
    "  e.g., \n",
    "  \n",
    "```sh\n",
    "pip install jupyter\n",
    "```\n",
    "\n",
    "\n"
   ]
  },
  {
   "cell_type": "markdown",
   "metadata": {
    "slideshow": {
     "slide_type": "subslide"
    }
   },
   "source": [
    "## Requirement Files\n",
    "\n",
    "* We use `requirements.txt` to list all the packages needed in our project.  \n",
    "* Each package is specified as `<PACKAGE_NAME>==<VERSION>`  \n",
    "  e.g.,\n",
    "\n",
    "```\n",
    "jupyter==1.0.0\n",
    "jedi==0.13.3\n",
    "```\n",
    "\n",
    "* Install packages in the `requirements.txt`\n",
    "\n",
    "```sh\n",
    "pip install -r requirements.txt\n",
    "```"
   ]
  },
  {
   "cell_type": "markdown",
   "metadata": {
    "slideshow": {
     "slide_type": "skip"
    }
   },
   "source": [
    "---"
   ]
  },
  {
   "cell_type": "markdown",
   "metadata": {
    "slideshow": {
     "slide_type": "slide"
    }
   },
   "source": [
    "# Environment Isolation"
   ]
  },
  {
   "cell_type": "markdown",
   "metadata": {},
   "source": [
    "* What if you have multiple Python projects run in your computer and each project need different versions of packages?\n",
    "\n",
    "* Solution: Create a virtual environment for each project and install packages within it."
   ]
  },
  {
   "cell_type": "markdown",
   "metadata": {
    "slideshow": {
     "slide_type": "subslide"
    }
   },
   "source": [
    "# Virtualenv\n",
    "\n",
    "## Installation\n",
    "\n",
    "```sh\n",
    "pip install virtualenv \n",
    "```"
   ]
  },
  {
   "cell_type": "markdown",
   "metadata": {
    "slideshow": {
     "slide_type": "subslide"
    }
   },
   "source": [
    "## Usage\n",
    "### Initial virtual enviroment\n",
    "* After executing the command, you find a `<VENV>` directory.\n",
    "\n",
    "```sh\n",
    "virtualenv <VENV>\n",
    "```\n",
    "\n",
    "### Activcate virtual environemnt (Linux, maxOS)\n",
    "\n",
    "```sh\n",
    "source ./<VENV>/\n",
    "```\n",
    "\n",
    "### Deactivcate virtual environemnt \n",
    "\n",
    "```sh\n",
    "deactivate\n",
    "```"
   ]
  },
  {
   "cell_type": "markdown",
   "metadata": {},
   "source": [
    "---"
   ]
  },
  {
   "cell_type": "markdown",
   "metadata": {
    "slideshow": {
     "slide_type": "slide"
    }
   },
   "source": [
    "# Pipenv\n",
    "\n",
    "* Solve **package Management** and **environment Isolation** with one tool at the same time!\n",
    "\n",
    "## Installation\n",
    "\n",
    "```sh\n",
    "pip install pipenv\n",
    "```"
   ]
  },
  {
   "cell_type": "markdown",
   "metadata": {
    "slideshow": {
     "slide_type": "subslide"
    }
   },
   "source": [
    "## Usage\n",
    "\n",
    "### Initial virtual enviroment\n",
    "\n",
    "```sh\n",
    "pipenv install\n",
    "```\n",
    "\n",
    "* If either `Pipfile`, `Pipfile.lock` or `requirments.txt` is provided, it will install the packages as well.\n",
    "* `pipenv` load virtualenv enviroment based on your project directory so **DO NOT** move your project."
   ]
  },
  {
   "cell_type": "markdown",
   "metadata": {
    "slideshow": {
     "slide_type": "subslide"
    }
   },
   "source": [
    "\n",
    "### Install package\n",
    "\n",
    "``` sh\n",
    "pipenv install <PACKAGE_NAME>\n",
    "```\n",
    "\n",
    "* Once you install the package, `pipenv` will add the newly installed package into both `Pipfile` and `Pipfile.lcok`.\n",
    "\n",
    "* Sometime, the lock process can be time-consuming. You can skip it through the following command.\n",
    "\n",
    "```sh\n",
    "pipenv install <PACKAGE_NAME> --skip-lock\n",
    "```"
   ]
  },
  {
   "cell_type": "markdown",
   "metadata": {
    "slideshow": {
     "slide_type": "subslide"
    }
   },
   "source": [
    "### Install packages from `requrements.txt`\n",
    "\n",
    "```sh\n",
    "pipenv install -r requirements.txt\n",
    "```\n",
    "\n",
    "* Note that `pipenv` will not maintain `requirements.txt`, it will generate `Pipfile` and `Pipfile.lock` based on the given `requirements.txt`."
   ]
  },
  {
   "cell_type": "markdown",
   "metadata": {
    "slideshow": {
     "slide_type": "subslide"
    }
   },
   "source": [
    "### Activate virtual environment\n",
    "\n",
    "```sh\n",
    "pipenv shell\n",
    "```\n",
    "\n",
    "### Deactivate virtual environment\n",
    "\n",
    "```sh\n",
    "exit\n",
    "```\n",
    "\n",
    "### Run python within virtual environment\n",
    "\n",
    "```sh\n",
    "pipenv run <COMMAND>\n",
    "```\n",
    "\n",
    "e.g.,\n",
    "\n",
    "```sh\n",
    "pipenv run python script.py\n",
    "```"
   ]
  },
  {
   "cell_type": "markdown",
   "metadata": {},
   "source": [
    "---"
   ]
  },
  {
   "cell_type": "markdown",
   "metadata": {
    "slideshow": {
     "slide_type": "slide"
    }
   },
   "source": [
    "\n",
    "# linters\n",
    "\n",
    "* Write readable code is also important for a data scientist unless you're sure you'll never ever change the code again which is unlikely."
   ]
  },
  {
   "cell_type": "markdown",
   "metadata": {
    "slideshow": {
     "slide_type": "subslide"
    }
   },
   "source": [
    "# pylint\n",
    "code analysis for Python\n",
    "\n",
    "## Installation\n",
    "\n",
    "```sh\n",
    "pip install pylint\n",
    "```\n",
    "\n",
    "## Usage\n",
    "\n",
    "```sh\n",
    "pylint <YOUR_CODE.py>\n",
    "```"
   ]
  },
  {
   "cell_type": "markdown",
   "metadata": {
    "slideshow": {
     "slide_type": "slide"
    }
   },
   "source": [
    "<a name='ref'></a>\n",
    "# Reference\n",
    "\n",
    "* Package Management\n",
    "    * [User Guide - Requirements Files](https://pip.pypa.io/en/stable/user_guide/#requirements-files)\n",
    "* Environement Isolation\n",
    "    * [virtualenv](https://virtualenv.pypa.io/en/latest/)\n",
    "    \n",
    "* Pipenv\n",
    "    * [Pipenv: Python Dev Workflow for Humans](https://pipenv.readthedocs.io/en/latest/)\n",
    "    * [Pipenv playground](https://rootnroll.com/d/pipenv/)\n",
    "* linter\n",
    "    * [pylint](https://www.pylint.org/)"
   ]
  }
 ],
 "metadata": {
  "celltoolbar": "Slideshow",
  "kernelspec": {
   "display_name": "Python 3",
   "language": "python",
   "name": "python3"
  },
  "language_info": {
   "codemirror_mode": {
    "name": "ipython",
    "version": 3
   },
   "file_extension": ".py",
   "mimetype": "text/x-python",
   "name": "python",
   "nbconvert_exporter": "python",
   "pygments_lexer": "ipython3",
   "version": "3.6.8"
  }
 },
 "nbformat": 4,
 "nbformat_minor": 2
}
